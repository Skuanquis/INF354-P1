{
 "cells": [
  {
   "cell_type": "markdown",
   "metadata": {
    "id": "G3S0sSR3OXq8"
   },
   "source": [
    "# **Pimer Parcial de Inteligencia Artificial**\n",
    "### **Nombre:** Steve Brandom Nina Huacani"
   ]
  },
  {
   "cell_type": "markdown",
   "metadata": {
    "id": "pjmwSuZdOd_k"
   },
   "source": [
    "### **Pregunta 4. Aplique a su dataset el etiquetado simple y binario.**"
   ]
  },
  {
   "cell_type": "markdown",
   "metadata": {
    "id": "18gAaqLAOmYF"
   },
   "source": [
    "El dataset elegido **Wine Quality** cuenta con la variable objetivo \"Quality\" la cual es una variable que tiene le siguiente rango [1,2,3,4,5,6,7,8,9,10], la cual ya se tedria un etiquetado simple por lo que utilizaremos letras para representar cada uno de estos valores y asi obtener el etiquetado simple lo haremos de la siguiente forma:"
   ]
  },
  {
   "cell_type": "code",
   "execution_count": null,
   "metadata": {
    "colab": {
     "base_uri": "https://localhost:8080/"
    },
    "id": "v_vMCvn-PMZt",
    "outputId": "a7c7d53a-af99-4df5-f606-3bd006f6feee"
   },
   "outputs": [
    {
     "name": "stdout",
     "output_type": "stream",
     "text": [
      "['A' 'B' 'C' 'D' 'E' 'F' 'G' 'H' 'I' 'J']\n",
      "[0 1 2 3 4 5 6 7 8 9]\n"
     ]
    }
   ],
   "source": [
    "#importamos el modulo LabelEncoder de scikit-learn\n",
    "from sklearn.preprocessing import LabelEncoder\n",
    "#importamos el modulo LabelBinarizer de scikit-learn\n",
    "from sklearn.preprocessing import LabelBinarizer\n",
    "#categorizamos nuestra variable objetivo como en el dataset ya se encuentra en un etiquetado simple asignaremos una letra a cada valor para que sea apreciable\n",
    "datos = ['A','B','C','D','E','F','G','H','I','J']\n",
    "#asignamos a metodo una instancia de la clase LabelEncoder\n",
    "metodo = LabelEncoder()\n",
    "#en otro array aplicamos el ajuste y la transformacion al array original\n",
    "datos2 = metodo.fit_transform(datos)\n",
    "#mostramos las clases originales\n",
    "print(metodo.classes_)\n",
    "#mostramos el etiquetado simple\n",
    "print(datos2)"
   ]
  },
  {
   "cell_type": "markdown",
   "metadata": {
    "id": "fgMusWTDPcaE"
   },
   "source": [
    "De la misma forma procederemos para el etiquetado binario"
   ]
  },
  {
   "cell_type": "code",
   "execution_count": null,
   "metadata": {
    "colab": {
     "base_uri": "https://localhost:8080/"
    },
    "id": "eJ5hCH5-jB5n",
    "outputId": "c3e218de-cfaa-4603-f421-d5fce7085c9d"
   },
   "outputs": [
    {
     "name": "stdout",
     "output_type": "stream",
     "text": [
      "['A' 'B' 'C' 'D' 'E' 'F' 'G' 'H' 'I' 'J']\n",
      "[[1 0 0 0 0 0 0 0 0 0]\n",
      " [0 1 0 0 0 0 0 0 0 0]\n",
      " [0 0 1 0 0 0 0 0 0 0]\n",
      " [0 0 0 1 0 0 0 0 0 0]\n",
      " [0 0 0 0 1 0 0 0 0 0]\n",
      " [0 0 0 0 0 1 0 0 0 0]\n",
      " [0 0 0 0 0 0 1 0 0 0]\n",
      " [0 0 0 0 0 0 0 1 0 0]\n",
      " [0 0 0 0 0 0 0 0 1 0]\n",
      " [0 0 0 0 0 0 0 0 0 1]]\n"
     ]
    }
   ],
   "source": [
    "#realizamos la transformacion a a inversa para poder seguir con el etiquetado binario\n",
    "datos1 = metodo.inverse_transform(datos2)\n",
    "#mostramos las clases originales\n",
    "print(datos1)\n",
    "#asignamos a metodo2 una instancia de la clase LabelBinarizer\n",
    "metodo2 = LabelBinarizer()\n",
    "#ajustamos y transformamos\n",
    "datos3 = metodo2.fit_transform(datos)\n",
    "#mostramos el etiquetado binario\n",
    "print(datos3)"
   ]
  }
 ],
 "metadata": {
  "colab": {
   "provenance": []
  },
  "kernelspec": {
   "display_name": "Python 3 (ipykernel)",
   "language": "python",
   "name": "python3"
  },
  "language_info": {
   "codemirror_mode": {
    "name": "ipython",
    "version": 3
   },
   "file_extension": ".py",
   "mimetype": "text/x-python",
   "name": "python",
   "nbconvert_exporter": "python",
   "pygments_lexer": "ipython3",
   "version": "3.11.4"
  }
 },
 "nbformat": 4,
 "nbformat_minor": 4
}
