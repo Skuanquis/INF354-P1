{
 "cells": [
  {
   "cell_type": "markdown",
   "metadata": {
    "id": "ghmpVrq4RmiX"
   },
   "source": [
    "# **Pimer Parcial de Inteligencia Artificial**\n",
    "### **Nombre:** Steve Brandom Nina Huacani"
   ]
  },
  {
   "cell_type": "markdown",
   "metadata": {
    "id": "pBgahUCNRo1Y"
   },
   "source": [
    "### **Pregunta 9:. Con PYTHON sin librerías construya los índices de al menos dos ciclos para un Split de Train 80 y test de 20, apliquelo en el dataset iris.**"
   ]
  },
  {
   "cell_type": "code",
   "execution_count": null,
   "metadata": {
    "colab": {
     "base_uri": "https://localhost:8080/"
    },
    "id": "ezdLXxRhDYy-",
    "outputId": "508aff43-aec3-4c48-afa6-210966753c3a"
   },
   "outputs": [
    {
     "name": "stdout",
     "output_type": "stream",
     "text": [
      "Drive already mounted at /content/drive; to attempt to forcibly remount, call drive.mount(\"/content/drive\", force_remount=True).\n"
     ]
    }
   ],
   "source": [
    "#Importamos el modulo de Google Drive\n",
    "#from google.colab import drive\n",
    "#MOntamos la carpeta content de Drive\n",
    "#drive.mount(\"/content/drive\")\n",
    "#Asignamos la ruta donde se encuentra nuestro dataset\n",
    "#archivo=\"/content/drive/MyDrive/data/iris.csv\"\n",
    "#importamos la libreria random\n",
    "import random\n",
    "#importamos la libreria csv\n",
    "import csv\n",
    "\n",
    "archivo = \"iris.csv\""
   ]
  },
  {
   "cell_type": "code",
   "execution_count": null,
   "metadata": {
    "id": "FUWU_selVMdp"
   },
   "outputs": [],
   "source": [
    "#funcion para obtener X y y\n",
    "def obtenerDatos(ruta):\n",
    "  #X tendra los registros menos la columna de la variable objetivo similar a iris.data\n",
    "  X = []\n",
    "  #Almacenara los registros de los tipos de flor similar a iris.target\n",
    "  y = []\n",
    "  with open(ruta, 'r', newline='') as dataset:\n",
    "    lector_csv = csv.reader(dataset)\n",
    "\n",
    "    # Leemos cada fila del archivo CSV\n",
    "    for fila in lector_csv:\n",
    "        # Agregamos todas las columnas excepto la última a X\n",
    "        X.append(fila[:-1])\n",
    "        # Agregamos la última columna a y\n",
    "        y.append(fila[-1])\n",
    "    #Eliminamos las cabeceras y convertimos los datos a float\n",
    "    X = [[float(elemento) for elemento in fila] for fila in X[1:]]\n",
    "    #Eliminamos las cabeceras\n",
    "    y = y[1:]\n",
    "    return X, y"
   ]
  },
  {
   "cell_type": "code",
   "execution_count": null,
   "metadata": {
    "colab": {
     "base_uri": "https://localhost:8080/"
    },
    "id": "llweqcvyW6P2",
    "outputId": "7751350d-0248-418d-a3b8-2c1dcad9da8e"
   },
   "outputs": [
    {
     "name": "stdout",
     "output_type": "stream",
     "text": [
      "[[5.1, 3.5, 1.4, 0.2], [4.9, 3.0, 1.4, 0.2], [4.7, 3.2, 1.3, 0.2], [4.6, 3.1, 1.5, 0.2], [5.0, 3.6, 1.4, 0.2], [5.4, 3.9, 1.7, 0.4], [4.6, 3.4, 1.4, 0.3], [5.0, 3.4, 1.5, 0.2], [4.4, 2.9, 1.4, 0.2], [4.9, 3.1, 1.5, 0.1], [5.4, 3.7, 1.5, 0.2], [4.8, 3.4, 1.6, 0.2], [4.8, 3.0, 1.4, 0.1], [4.3, 3.0, 1.1, 0.1], [5.8, 4.0, 1.2, 0.2], [5.7, 4.4, 1.5, 0.4], [5.4, 3.9, 1.3, 0.4], [5.1, 3.5, 1.4, 0.3], [5.7, 3.8, 1.7, 0.3], [5.1, 3.8, 1.5, 0.3], [5.4, 3.4, 1.7, 0.2], [5.1, 3.7, 1.5, 0.4], [4.6, 3.6, 1.0, 0.2], [5.1, 3.3, 1.7, 0.5], [4.8, 3.4, 1.9, 0.2], [5.0, 3.0, 1.6, 0.2], [5.0, 3.4, 1.6, 0.4], [5.2, 3.5, 1.5, 0.2], [5.2, 3.4, 1.4, 0.2], [4.7, 3.2, 1.6, 0.2], [4.8, 3.1, 1.6, 0.2], [5.4, 3.4, 1.5, 0.4], [5.2, 4.1, 1.5, 0.1], [5.5, 4.2, 1.4, 0.2], [4.9, 3.1, 1.5, 0.1], [5.0, 3.2, 1.2, 0.2], [5.5, 3.5, 1.3, 0.2], [4.9, 3.1, 1.5, 0.1], [4.4, 3.0, 1.3, 0.2], [5.1, 3.4, 1.5, 0.2], [5.0, 3.5, 1.3, 0.3], [4.5, 2.3, 1.3, 0.3], [4.4, 3.2, 1.3, 0.2], [5.0, 3.5, 1.6, 0.6], [5.1, 3.8, 1.9, 0.4], [4.8, 3.0, 1.4, 0.3], [5.1, 3.8, 1.6, 0.2], [4.6, 3.2, 1.4, 0.2], [5.3, 3.7, 1.5, 0.2], [5.0, 3.3, 1.4, 0.2], [7.0, 3.2, 4.7, 1.4], [6.4, 3.2, 4.5, 1.5], [6.9, 3.1, 4.9, 1.5], [5.5, 2.3, 4.0, 1.3], [6.5, 2.8, 4.6, 1.5], [5.7, 2.8, 4.5, 1.3], [6.3, 3.3, 4.7, 1.6], [4.9, 2.4, 3.3, 1.0], [6.6, 2.9, 4.6, 1.3], [5.2, 2.7, 3.9, 1.4], [5.0, 2.0, 3.5, 1.0], [5.9, 3.0, 4.2, 1.5], [6.0, 2.2, 4.0, 1.0], [6.1, 2.9, 4.7, 1.4], [5.6, 2.9, 3.6, 1.3], [6.7, 3.1, 4.4, 1.4], [5.6, 3.0, 4.5, 1.5], [5.8, 2.7, 4.1, 1.0], [6.2, 2.2, 4.5, 1.5], [5.6, 2.5, 3.9, 1.1], [5.9, 3.2, 4.8, 1.8], [6.1, 2.8, 4.0, 1.3], [6.3, 2.5, 4.9, 1.5], [6.1, 2.8, 4.7, 1.2], [6.4, 2.9, 4.3, 1.3], [6.6, 3.0, 4.4, 1.4], [6.8, 2.8, 4.8, 1.4], [6.7, 3.0, 5.0, 1.7], [6.0, 2.9, 4.5, 1.5], [5.7, 2.6, 3.5, 1.0], [5.5, 2.4, 3.8, 1.1], [5.5, 2.4, 3.7, 1.0], [5.8, 2.7, 3.9, 1.2], [6.0, 2.7, 5.1, 1.6], [5.4, 3.0, 4.5, 1.5], [6.0, 3.4, 4.5, 1.6], [6.7, 3.1, 4.7, 1.5], [6.3, 2.3, 4.4, 1.3], [5.6, 3.0, 4.1, 1.3], [5.5, 2.5, 4.0, 1.3], [5.5, 2.6, 4.4, 1.2], [6.1, 3.0, 4.6, 1.4], [5.8, 2.6, 4.0, 1.2], [5.0, 2.3, 3.3, 1.0], [5.6, 2.7, 4.2, 1.3], [5.7, 3.0, 4.2, 1.2], [5.7, 2.9, 4.2, 1.3], [6.2, 2.9, 4.3, 1.3], [5.1, 2.5, 3.0, 1.1], [5.7, 2.8, 4.1, 1.3], [6.3, 3.3, 6.0, 2.5], [5.8, 2.7, 5.1, 1.9], [7.1, 3.0, 5.9, 2.1], [6.3, 2.9, 5.6, 1.8], [6.5, 3.0, 5.8, 2.2], [7.6, 3.0, 6.6, 2.1], [4.9, 2.5, 4.5, 1.7], [7.3, 2.9, 6.3, 1.8], [6.7, 2.5, 5.8, 1.8], [7.2, 3.6, 6.1, 2.5], [6.5, 3.2, 5.1, 2.0], [6.4, 2.7, 5.3, 1.9], [6.8, 3.0, 5.5, 2.1], [5.7, 2.5, 5.0, 2.0], [5.8, 2.8, 5.1, 2.4], [6.4, 3.2, 5.3, 2.3], [6.5, 3.0, 5.5, 1.8], [7.7, 3.8, 6.7, 2.2], [7.7, 2.6, 6.9, 2.3], [6.0, 2.2, 5.0, 1.5], [6.9, 3.2, 5.7, 2.3], [5.6, 2.8, 4.9, 2.0], [7.7, 2.8, 6.7, 2.0], [6.3, 2.7, 4.9, 1.8], [6.7, 3.3, 5.7, 2.1], [7.2, 3.2, 6.0, 1.8], [6.2, 2.8, 4.8, 1.8], [6.1, 3.0, 4.9, 1.8], [6.4, 2.8, 5.6, 2.1], [7.2, 3.0, 5.8, 1.6], [7.4, 2.8, 6.1, 1.9], [7.9, 3.8, 6.4, 2.0], [6.4, 2.8, 5.6, 2.2], [6.3, 2.8, 5.1, 1.5], [6.1, 2.6, 5.6, 1.4], [7.7, 3.0, 6.1, 2.3], [6.3, 3.4, 5.6, 2.4], [6.4, 3.1, 5.5, 1.8], [6.0, 3.0, 4.8, 1.8], [6.9, 3.1, 5.4, 2.1], [6.7, 3.1, 5.6, 2.4], [6.9, 3.1, 5.1, 2.3], [5.8, 2.7, 5.1, 1.9], [6.8, 3.2, 5.9, 2.3], [6.7, 3.3, 5.7, 2.5], [6.7, 3.0, 5.2, 2.3], [6.3, 2.5, 5.0, 1.9], [6.5, 3.0, 5.2, 2.0], [6.2, 3.4, 5.4, 2.3], [5.9, 3.0, 5.1, 1.8]]\n",
      "['setosa', 'setosa', 'setosa', 'setosa', 'setosa', 'setosa', 'setosa', 'setosa', 'setosa', 'setosa', 'setosa', 'setosa', 'setosa', 'setosa', 'setosa', 'setosa', 'setosa', 'setosa', 'setosa', 'setosa', 'setosa', 'setosa', 'setosa', 'setosa', 'setosa', 'setosa', 'setosa', 'setosa', 'setosa', 'setosa', 'setosa', 'setosa', 'setosa', 'setosa', 'setosa', 'setosa', 'setosa', 'setosa', 'setosa', 'setosa', 'setosa', 'setosa', 'setosa', 'setosa', 'setosa', 'setosa', 'setosa', 'setosa', 'setosa', 'setosa', 'versicolor', 'versicolor', 'versicolor', 'versicolor', 'versicolor', 'versicolor', 'versicolor', 'versicolor', 'versicolor', 'versicolor', 'versicolor', 'versicolor', 'versicolor', 'versicolor', 'versicolor', 'versicolor', 'versicolor', 'versicolor', 'versicolor', 'versicolor', 'versicolor', 'versicolor', 'versicolor', 'versicolor', 'versicolor', 'versicolor', 'versicolor', 'versicolor', 'versicolor', 'versicolor', 'versicolor', 'versicolor', 'versicolor', 'versicolor', 'versicolor', 'versicolor', 'versicolor', 'versicolor', 'versicolor', 'versicolor', 'versicolor', 'versicolor', 'versicolor', 'versicolor', 'versicolor', 'versicolor', 'versicolor', 'versicolor', 'versicolor', 'versicolor', 'virginica', 'virginica', 'virginica', 'virginica', 'virginica', 'virginica', 'virginica', 'virginica', 'virginica', 'virginica', 'virginica', 'virginica', 'virginica', 'virginica', 'virginica', 'virginica', 'virginica', 'virginica', 'virginica', 'virginica', 'virginica', 'virginica', 'virginica', 'virginica', 'virginica', 'virginica', 'virginica', 'virginica', 'virginica', 'virginica', 'virginica', 'virginica', 'virginica', 'virginica', 'virginica', 'virginica', 'virginica', 'virginica', 'virginica', 'virginica', 'virginica', 'virginica', 'virginica', 'virginica', 'virginica', 'virginica', 'virginica', 'virginica', 'virginica', 'virginica']\n"
     ]
    }
   ],
   "source": [
    "X,y =  obtenerDatos(archivo)\n",
    "print(X)\n",
    "print(y)"
   ]
  },
  {
   "cell_type": "code",
   "execution_count": null,
   "metadata": {
    "colab": {
     "base_uri": "https://localhost:8080/"
    },
    "id": "7phhE2bDZ7kg",
    "outputId": "b1b292c4-4b18-4805-f313-0b842083ffa4"
   },
   "outputs": [
    {
     "name": "stdout",
     "output_type": "stream",
     "text": [
      "Ciclo numero: 1\n",
      "Numero de datos de entrenamiento: 120\n",
      "Numero de datos de prueba: 30\n",
      "X_train\n",
      "[[6.3, 2.9, 5.6, 1.8], [4.4, 3.0, 1.3, 0.2], [6.3, 3.3, 6.0, 2.5], [6.8, 2.8, 4.8, 1.4], [4.8, 3.0, 1.4, 0.3], [4.6, 3.4, 1.4, 0.3], [6.1, 2.6, 5.6, 1.4], [4.9, 3.1, 1.5, 0.1], [5.0, 3.5, 1.3, 0.3], [4.6, 3.2, 1.4, 0.2], [4.8, 3.0, 1.4, 0.1], [6.6, 2.9, 4.6, 1.3], [6.0, 2.9, 4.5, 1.5], [5.1, 3.8, 1.6, 0.2], [5.1, 3.8, 1.5, 0.3], [5.4, 3.4, 1.7, 0.2], [5.1, 3.8, 1.9, 0.4], [5.9, 3.2, 4.8, 1.8], [5.0, 3.6, 1.4, 0.2], [5.3, 3.7, 1.5, 0.2], [6.5, 3.0, 5.5, 1.8], [6.0, 2.2, 5.0, 1.5], [6.4, 2.7, 5.3, 1.9], [5.6, 2.7, 4.2, 1.3], [6.9, 3.2, 5.7, 2.3], [6.7, 3.3, 5.7, 2.5], [6.0, 3.4, 4.5, 1.6], [5.7, 3.8, 1.7, 0.3], [5.5, 2.4, 3.8, 1.1], [6.4, 2.8, 5.6, 2.2], [6.7, 3.3, 5.7, 2.1], [6.1, 2.8, 4.0, 1.3], [5.7, 2.5, 5.0, 2.0], [5.9, 3.0, 4.2, 1.5], [5.0, 2.3, 3.3, 1.0], [5.0, 3.2, 1.2, 0.2], [5.0, 3.0, 1.6, 0.2], [7.7, 2.6, 6.9, 2.3], [5.5, 2.3, 4.0, 1.3], [6.0, 2.2, 4.0, 1.0], [5.0, 3.3, 1.4, 0.2], [5.8, 2.6, 4.0, 1.2], [6.8, 3.0, 5.5, 2.1], [5.6, 3.0, 4.5, 1.5], [4.9, 3.0, 1.4, 0.2], [7.7, 2.8, 6.7, 2.0], [6.6, 3.0, 4.4, 1.4], [4.9, 3.1, 1.5, 0.1], [6.9, 3.1, 5.1, 2.3], [6.2, 2.9, 4.3, 1.3], [5.2, 3.4, 1.4, 0.2], [4.9, 3.1, 1.5, 0.1], [5.7, 2.8, 4.5, 1.3], [6.9, 3.1, 4.9, 1.5], [5.8, 2.7, 4.1, 1.0], [6.4, 3.2, 4.5, 1.5], [4.9, 2.4, 3.3, 1.0], [5.1, 2.5, 3.0, 1.1], [5.7, 4.4, 1.5, 0.4], [5.2, 3.5, 1.5, 0.2], [6.3, 2.7, 4.9, 1.8], [5.4, 3.0, 4.5, 1.5], [4.6, 3.1, 1.5, 0.2], [4.9, 2.5, 4.5, 1.7], [5.1, 3.3, 1.7, 0.5], [5.0, 2.0, 3.5, 1.0], [6.7, 3.1, 4.7, 1.5], [6.7, 3.1, 4.4, 1.4], [5.5, 2.5, 4.0, 1.3], [5.4, 3.4, 1.5, 0.4], [4.7, 3.2, 1.6, 0.2], [6.1, 2.9, 4.7, 1.4], [7.1, 3.0, 5.9, 2.1], [6.4, 3.1, 5.5, 1.8], [6.3, 3.3, 4.7, 1.6], [6.8, 3.2, 5.9, 2.3], [6.1, 3.0, 4.6, 1.4], [7.6, 3.0, 6.6, 2.1], [7.4, 2.8, 6.1, 1.9], [5.6, 2.8, 4.9, 2.0], [4.5, 2.3, 1.3, 0.3], [4.8, 3.4, 1.9, 0.2], [5.5, 2.4, 3.7, 1.0], [6.5, 3.0, 5.8, 2.2], [6.3, 2.5, 4.9, 1.5], [7.2, 3.2, 6.0, 1.8], [4.4, 2.9, 1.4, 0.2], [6.2, 2.8, 4.8, 1.8], [6.2, 3.4, 5.4, 2.3], [6.2, 2.2, 4.5, 1.5], [4.7, 3.2, 1.3, 0.2], [6.5, 3.2, 5.1, 2.0], [5.4, 3.9, 1.3, 0.4], [6.3, 2.8, 5.1, 1.5], [6.3, 2.5, 5.0, 1.9], [5.1, 3.4, 1.5, 0.2], [5.4, 3.7, 1.5, 0.2], [6.4, 2.9, 4.3, 1.3], [6.3, 2.3, 4.4, 1.3], [5.8, 2.7, 5.1, 1.9], [7.3, 2.9, 6.3, 1.8], [5.6, 2.5, 3.9, 1.1], [7.0, 3.2, 4.7, 1.4], [5.2, 4.1, 1.5, 0.1], [6.9, 3.1, 5.4, 2.1], [5.0, 3.4, 1.5, 0.2], [7.2, 3.0, 5.8, 1.6], [6.1, 2.8, 4.7, 1.2], [5.1, 3.5, 1.4, 0.3], [5.8, 2.7, 3.9, 1.2], [7.2, 3.6, 6.1, 2.5], [6.4, 2.8, 5.6, 2.1], [6.7, 3.1, 5.6, 2.4], [6.7, 3.0, 5.2, 2.3], [5.1, 3.7, 1.5, 0.4], [5.8, 2.7, 5.1, 1.9], [6.0, 3.0, 4.8, 1.8], [6.3, 3.4, 5.6, 2.4], [6.7, 3.0, 5.0, 1.7], [4.3, 3.0, 1.1, 0.1]]\n",
      "y_train\n",
      "['virginica', 'setosa', 'virginica', 'versicolor', 'setosa', 'setosa', 'virginica', 'setosa', 'setosa', 'setosa', 'setosa', 'versicolor', 'versicolor', 'setosa', 'setosa', 'setosa', 'setosa', 'versicolor', 'setosa', 'setosa', 'virginica', 'virginica', 'virginica', 'versicolor', 'virginica', 'virginica', 'versicolor', 'setosa', 'versicolor', 'virginica', 'virginica', 'versicolor', 'virginica', 'versicolor', 'versicolor', 'setosa', 'setosa', 'virginica', 'versicolor', 'versicolor', 'setosa', 'versicolor', 'virginica', 'versicolor', 'setosa', 'virginica', 'versicolor', 'setosa', 'virginica', 'versicolor', 'setosa', 'setosa', 'versicolor', 'versicolor', 'versicolor', 'versicolor', 'versicolor', 'versicolor', 'setosa', 'setosa', 'virginica', 'versicolor', 'setosa', 'virginica', 'setosa', 'versicolor', 'versicolor', 'versicolor', 'versicolor', 'setosa', 'setosa', 'versicolor', 'virginica', 'virginica', 'versicolor', 'virginica', 'versicolor', 'virginica', 'virginica', 'virginica', 'setosa', 'setosa', 'versicolor', 'virginica', 'versicolor', 'virginica', 'setosa', 'virginica', 'virginica', 'versicolor', 'setosa', 'virginica', 'setosa', 'virginica', 'virginica', 'setosa', 'setosa', 'versicolor', 'versicolor', 'virginica', 'virginica', 'versicolor', 'versicolor', 'setosa', 'virginica', 'setosa', 'virginica', 'versicolor', 'setosa', 'versicolor', 'virginica', 'virginica', 'virginica', 'virginica', 'setosa', 'virginica', 'virginica', 'virginica', 'versicolor', 'setosa']\n",
      "X_test\n",
      "[[6.3, 2.9, 5.6, 1.8], [4.4, 3.0, 1.3, 0.2], [6.3, 3.3, 6.0, 2.5], [6.8, 2.8, 4.8, 1.4], [4.8, 3.0, 1.4, 0.3], [4.6, 3.4, 1.4, 0.3], [6.1, 2.6, 5.6, 1.4], [4.9, 3.1, 1.5, 0.1], [5.0, 3.5, 1.3, 0.3], [4.6, 3.2, 1.4, 0.2], [4.8, 3.0, 1.4, 0.1], [6.6, 2.9, 4.6, 1.3], [6.0, 2.9, 4.5, 1.5], [5.1, 3.8, 1.6, 0.2], [5.1, 3.8, 1.5, 0.3], [5.4, 3.4, 1.7, 0.2], [5.1, 3.8, 1.9, 0.4], [5.9, 3.2, 4.8, 1.8], [5.0, 3.6, 1.4, 0.2], [5.3, 3.7, 1.5, 0.2], [6.5, 3.0, 5.5, 1.8], [6.0, 2.2, 5.0, 1.5], [6.4, 2.7, 5.3, 1.9], [5.6, 2.7, 4.2, 1.3], [6.9, 3.2, 5.7, 2.3], [6.7, 3.3, 5.7, 2.5], [6.0, 3.4, 4.5, 1.6], [5.7, 3.8, 1.7, 0.3], [5.5, 2.4, 3.8, 1.1], [6.4, 2.8, 5.6, 2.2]]\n",
      "y_test\n",
      "['virginica', 'setosa', 'virginica', 'versicolor', 'setosa', 'setosa', 'virginica', 'setosa', 'setosa', 'setosa', 'setosa', 'versicolor', 'versicolor', 'setosa', 'setosa', 'setosa', 'setosa', 'versicolor', 'setosa', 'setosa', 'virginica', 'virginica', 'virginica', 'versicolor', 'virginica', 'virginica', 'versicolor', 'setosa', 'versicolor', 'virginica']\n",
      "\n",
      "Ciclo numero: 2\n",
      "Numero de datos de entrenamiento: 120\n",
      "Numero de datos de prueba: 30\n",
      "X_train\n",
      "[[5.0, 3.4, 1.5, 0.2], [4.6, 3.6, 1.0, 0.2], [4.8, 3.4, 1.9, 0.2], [6.1, 3.0, 4.9, 1.8], [5.9, 3.0, 4.2, 1.5], [5.1, 3.5, 1.4, 0.2], [5.1, 3.8, 1.5, 0.3], [5.1, 3.3, 1.7, 0.5], [5.0, 3.6, 1.4, 0.2], [5.6, 2.8, 4.9, 2.0], [5.1, 3.8, 1.6, 0.2], [4.9, 3.1, 1.5, 0.1], [5.5, 2.5, 4.0, 1.3], [4.7, 3.2, 1.3, 0.2], [7.2, 3.0, 5.8, 1.6], [7.7, 3.0, 6.1, 2.3], [6.0, 3.4, 4.5, 1.6], [5.8, 2.6, 4.0, 1.2], [5.0, 3.3, 1.4, 0.2], [5.0, 2.0, 3.5, 1.0], [6.0, 3.0, 4.8, 1.8], [6.1, 2.9, 4.7, 1.4], [4.9, 2.4, 3.3, 1.0], [5.2, 2.7, 3.9, 1.4], [6.5, 2.8, 4.6, 1.5], [6.0, 2.2, 4.0, 1.0], [6.7, 2.5, 5.8, 1.8], [6.7, 3.0, 5.2, 2.3], [7.2, 3.2, 6.0, 1.8], [5.4, 3.0, 4.5, 1.5], [5.7, 2.5, 5.0, 2.0], [6.5, 3.0, 5.2, 2.0], [6.3, 3.3, 4.7, 1.6], [6.0, 2.9, 4.5, 1.5], [5.7, 3.8, 1.7, 0.3], [6.4, 2.7, 5.3, 1.9], [5.0, 3.4, 1.6, 0.4], [4.4, 2.9, 1.4, 0.2], [5.0, 3.0, 1.6, 0.2], [7.7, 2.6, 6.9, 2.3], [5.1, 3.8, 1.9, 0.4], [5.7, 2.8, 4.5, 1.3], [5.5, 2.3, 4.0, 1.3], [5.8, 2.7, 5.1, 1.9], [6.1, 2.8, 4.0, 1.3], [4.8, 3.4, 1.6, 0.2], [5.5, 2.4, 3.8, 1.1], [6.8, 3.0, 5.5, 2.1], [6.9, 3.1, 4.9, 1.5], [5.2, 3.4, 1.4, 0.2], [5.4, 3.7, 1.5, 0.2], [6.0, 2.7, 5.1, 1.6], [7.0, 3.2, 4.7, 1.4], [4.6, 3.1, 1.5, 0.2], [4.3, 3.0, 1.1, 0.1], [5.2, 3.5, 1.5, 0.2], [5.0, 3.5, 1.6, 0.6], [5.6, 3.0, 4.5, 1.5], [6.7, 3.1, 4.4, 1.4], [5.8, 2.7, 4.1, 1.0], [6.3, 2.5, 4.9, 1.5], [6.2, 2.2, 4.5, 1.5], [6.9, 3.2, 5.7, 2.3], [4.9, 2.5, 4.5, 1.7], [5.6, 2.5, 3.9, 1.1], [7.4, 2.8, 6.1, 1.9], [4.4, 3.2, 1.3, 0.2], [6.7, 3.3, 5.7, 2.1], [7.3, 2.9, 6.3, 1.8], [5.6, 3.0, 4.1, 1.3], [7.1, 3.0, 5.9, 2.1], [5.7, 4.4, 1.5, 0.4], [5.7, 2.9, 4.2, 1.3], [6.1, 3.0, 4.6, 1.4], [4.5, 2.3, 1.3, 0.3], [6.8, 2.8, 4.8, 1.4], [7.9, 3.8, 6.4, 2.0], [5.8, 2.7, 3.9, 1.2], [4.9, 3.1, 1.5, 0.1], [6.4, 2.9, 4.3, 1.3], [6.0, 2.2, 5.0, 1.5], [6.3, 2.9, 5.6, 1.8], [5.0, 3.2, 1.2, 0.2], [6.7, 3.1, 4.7, 1.5], [5.1, 3.5, 1.4, 0.3], [5.8, 4.0, 1.2, 0.2], [6.4, 2.8, 5.6, 2.2], [6.1, 2.6, 5.6, 1.4], [6.2, 2.9, 4.3, 1.3], [6.3, 2.7, 4.9, 1.8], [5.2, 4.1, 1.5, 0.1], [5.7, 2.6, 3.5, 1.0], [5.4, 3.4, 1.5, 0.4], [6.5, 3.0, 5.5, 1.8], [5.4, 3.4, 1.7, 0.2], [5.5, 2.4, 3.7, 1.0], [5.7, 2.8, 4.1, 1.3], [5.5, 2.6, 4.4, 1.2], [5.5, 4.2, 1.4, 0.2], [6.7, 3.3, 5.7, 2.5], [6.6, 2.9, 4.6, 1.3], [6.3, 2.8, 5.1, 1.5], [6.3, 2.3, 4.4, 1.3], [5.1, 2.5, 3.0, 1.1], [5.6, 2.7, 4.2, 1.3], [7.2, 3.6, 6.1, 2.5], [4.6, 3.4, 1.4, 0.3], [5.9, 3.0, 5.1, 1.8], [6.1, 2.8, 4.7, 1.2], [5.0, 2.3, 3.3, 1.0], [4.9, 3.0, 1.4, 0.2], [6.8, 3.2, 5.9, 2.3], [4.6, 3.2, 1.4, 0.2], [6.9, 3.1, 5.1, 2.3], [7.6, 3.0, 6.6, 2.1], [5.0, 3.5, 1.3, 0.3], [6.4, 3.2, 5.3, 2.3], [6.5, 3.2, 5.1, 2.0], [6.7, 3.0, 5.0, 1.7], [5.8, 2.7, 5.1, 1.9]]\n",
      "y_train\n",
      "['setosa', 'setosa', 'setosa', 'virginica', 'versicolor', 'setosa', 'setosa', 'setosa', 'setosa', 'virginica', 'setosa', 'setosa', 'versicolor', 'setosa', 'virginica', 'virginica', 'versicolor', 'versicolor', 'setosa', 'versicolor', 'virginica', 'versicolor', 'versicolor', 'versicolor', 'versicolor', 'versicolor', 'virginica', 'virginica', 'virginica', 'versicolor', 'virginica', 'virginica', 'versicolor', 'versicolor', 'setosa', 'virginica', 'setosa', 'setosa', 'setosa', 'virginica', 'setosa', 'versicolor', 'versicolor', 'virginica', 'versicolor', 'setosa', 'versicolor', 'virginica', 'versicolor', 'setosa', 'setosa', 'versicolor', 'versicolor', 'setosa', 'setosa', 'setosa', 'setosa', 'versicolor', 'versicolor', 'versicolor', 'versicolor', 'versicolor', 'virginica', 'virginica', 'versicolor', 'virginica', 'setosa', 'virginica', 'virginica', 'versicolor', 'virginica', 'setosa', 'versicolor', 'versicolor', 'setosa', 'versicolor', 'virginica', 'versicolor', 'setosa', 'versicolor', 'virginica', 'virginica', 'setosa', 'versicolor', 'setosa', 'setosa', 'virginica', 'virginica', 'versicolor', 'virginica', 'setosa', 'versicolor', 'setosa', 'virginica', 'setosa', 'versicolor', 'versicolor', 'versicolor', 'setosa', 'virginica', 'versicolor', 'virginica', 'versicolor', 'versicolor', 'versicolor', 'virginica', 'setosa', 'virginica', 'versicolor', 'versicolor', 'setosa', 'virginica', 'setosa', 'virginica', 'virginica', 'setosa', 'virginica', 'virginica', 'versicolor', 'virginica']\n",
      "X_test\n",
      "[[5.0, 3.4, 1.5, 0.2], [4.6, 3.6, 1.0, 0.2], [4.8, 3.4, 1.9, 0.2], [6.1, 3.0, 4.9, 1.8], [5.9, 3.0, 4.2, 1.5], [5.1, 3.5, 1.4, 0.2], [5.1, 3.8, 1.5, 0.3], [5.1, 3.3, 1.7, 0.5], [5.0, 3.6, 1.4, 0.2], [5.6, 2.8, 4.9, 2.0], [5.1, 3.8, 1.6, 0.2], [4.9, 3.1, 1.5, 0.1], [5.5, 2.5, 4.0, 1.3], [4.7, 3.2, 1.3, 0.2], [7.2, 3.0, 5.8, 1.6], [7.7, 3.0, 6.1, 2.3], [6.0, 3.4, 4.5, 1.6], [5.8, 2.6, 4.0, 1.2], [5.0, 3.3, 1.4, 0.2], [5.0, 2.0, 3.5, 1.0], [6.0, 3.0, 4.8, 1.8], [6.1, 2.9, 4.7, 1.4], [4.9, 2.4, 3.3, 1.0], [5.2, 2.7, 3.9, 1.4], [6.5, 2.8, 4.6, 1.5], [6.0, 2.2, 4.0, 1.0], [6.7, 2.5, 5.8, 1.8], [6.7, 3.0, 5.2, 2.3], [7.2, 3.2, 6.0, 1.8], [5.4, 3.0, 4.5, 1.5]]\n",
      "y_test\n",
      "['setosa', 'setosa', 'setosa', 'virginica', 'versicolor', 'setosa', 'setosa', 'setosa', 'setosa', 'virginica', 'setosa', 'setosa', 'versicolor', 'setosa', 'virginica', 'virginica', 'versicolor', 'versicolor', 'setosa', 'versicolor', 'virginica', 'versicolor', 'versicolor', 'versicolor', 'versicolor', 'versicolor', 'virginica', 'virginica', 'virginica', 'versicolor']\n",
      "\n"
     ]
    }
   ],
   "source": [
    "#Definimos la proporcion del 80% para entrenamiento\n",
    "proporcion_entrenamiento = 0.8\n",
    "#Definimos la proporcion del 20% para prueba\n",
    "proporcion_prueba = 0.2\n",
    "#Cantidad de registros del dataset\n",
    "muestras = 150\n",
    "#Definimos el numero de ciclos del split\n",
    "n = 2\n",
    "\n",
    "#Realizamos el split de dos ciclos\n",
    "for i in range(n):\n",
    "  #definimos los indices\n",
    "  indices = list(range(muestras))\n",
    "  #mezclamos los indices dentro de la lista\n",
    "  random.shuffle(indices)\n",
    "  #cantidad de muestras para train\n",
    "  num_train = int(muestras * proporcion_entrenamiento)\n",
    "  #cantidad de muestras para test\n",
    "  num_test = int(muestras * proporcion_prueba)\n",
    "  #indices para entrenamieto\n",
    "  train_indices = indices[:num_train]\n",
    "  #indices para prueba\n",
    "  test_indices = indices[:num_test]\n",
    "\n",
    "  #Obtenemos los datos de entrenamiento y de prueba para X y y\n",
    "  X_train = [X[i] for i in train_indices]\n",
    "  y_train = [y[i] for i in train_indices]\n",
    "\n",
    "  X_test = [X[i] for i in test_indices]\n",
    "  y_test = [y[i] for i in test_indices]\n",
    "\n",
    "  #mostramos los resultados\n",
    "  print(f\"Ciclo numero: {i+1}\")\n",
    "  print(f\"Numero de datos de entrenamiento: {num_train}\")\n",
    "  print(f\"Numero de datos de prueba: {num_test}\")\n",
    "  #Mostramos X_train\n",
    "  print(\"X_train\")\n",
    "  print(X_train)\n",
    "  print(\"y_train\")\n",
    "  print(y_train)\n",
    "  print(\"X_test\")\n",
    "  print(X_test)\n",
    "  print(\"y_test\")\n",
    "  print(y_test)\n",
    "  print()"
   ]
  }
 ],
 "metadata": {
  "colab": {
   "provenance": []
  },
  "kernelspec": {
   "display_name": "Python 3 (ipykernel)",
   "language": "python",
   "name": "python3"
  },
  "language_info": {
   "codemirror_mode": {
    "name": "ipython",
    "version": 3
   },
   "file_extension": ".py",
   "mimetype": "text/x-python",
   "name": "python",
   "nbconvert_exporter": "python",
   "pygments_lexer": "ipython3",
   "version": "3.11.4"
  }
 },
 "nbformat": 4,
 "nbformat_minor": 4
}
